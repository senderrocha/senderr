{
 "cells": [
  {
   "cell_type": "code",
   "execution_count": 26,
   "metadata": {
    "collapsed": true
   },
   "outputs": [],
   "source": [
    "import graphlab "
   ]
  },
  {
   "cell_type": "code",
   "execution_count": 27,
   "metadata": {
    "collapsed": false
   },
   "outputs": [
    {
     "data": {
      "text/html": [
       "<pre>Finished parsing file /Users/senderrochadossantos/affectivetext_trial_teste1.csv</pre>"
      ],
      "text/plain": [
       "Finished parsing file /Users/senderrochadossantos/affectivetext_trial_teste1.csv"
      ]
     },
     "metadata": {},
     "output_type": "display_data"
    },
    {
     "data": {
      "text/html": [
       "<pre>Parsing completed. Parsed 100 lines in 0.116526 secs.</pre>"
      ],
      "text/plain": [
       "Parsing completed. Parsed 100 lines in 0.116526 secs."
      ]
     },
     "metadata": {},
     "output_type": "display_data"
    },
    {
     "name": "stdout",
     "output_type": "stream",
     "text": [
      "------------------------------------------------------\n",
      "Inferred types from first 100 line(s) of file as \n",
      "column_type_hints=[int,str,list,list,str]\n",
      "If parsing fails due to incorrect types, you can correct\n",
      "the inferred type list above and pass it to read_csv in\n",
      "the column_type_hints argument\n",
      "------------------------------------------------------\n"
     ]
    },
    {
     "data": {
      "text/html": [
       "<pre>Finished parsing file /Users/senderrochadossantos/affectivetext_trial_teste1.csv</pre>"
      ],
      "text/plain": [
       "Finished parsing file /Users/senderrochadossantos/affectivetext_trial_teste1.csv"
      ]
     },
     "metadata": {},
     "output_type": "display_data"
    },
    {
     "data": {
      "text/html": [
       "<pre>Parsing completed. Parsed 250 lines in 0.009665 secs.</pre>"
      ],
      "text/plain": [
       "Parsing completed. Parsed 250 lines in 0.009665 secs."
      ]
     },
     "metadata": {},
     "output_type": "display_data"
    },
    {
     "data": {
      "text/html": [
       "<div style=\"max-height:1000px;max-width:1500px;overflow:auto;\"><table frame=\"box\" rules=\"cols\">\n",
       "    <tr>\n",
       "        <th style=\"padding-left: 1em; padding-right: 1em; text-align: center\">id</th>\n",
       "        <th style=\"padding-left: 1em; padding-right: 1em; text-align: center\">headline</th>\n",
       "        <th style=\"padding-left: 1em; padding-right: 1em; text-align: center\">keyword</th>\n",
       "        <th style=\"padding-left: 1em; padding-right: 1em; text-align: center\">sentiment</th>\n",
       "        <th style=\"padding-left: 1em; padding-right: 1em; text-align: center\">X5</th>\n",
       "    </tr>\n",
       "    <tr>\n",
       "        <td style=\"padding-left: 1em; padding-right: 1em; text-align: center; vertical-align: top\">1</td>\n",
       "        <td style=\"padding-left: 1em; padding-right: 1em; text-align: center; vertical-align: top\">Mortar assault leaves at<br>least 18 dead ...</td>\n",
       "        <td style=\"padding-left: 1em; padding-right: 1em; text-align: center; vertical-align: top\">[mortar, leave]</td>\n",
       "        <td style=\"padding-left: 1em; padding-right: 1em; text-align: center; vertical-align: top\">[#fear, #disgust,<br>#admiration, #admirat ...</td>\n",
       "        <td style=\"padding-left: 1em; padding-right: 1em; text-align: center; vertical-align: top\"></td>\n",
       "    </tr>\n",
       "    <tr>\n",
       "        <td style=\"padding-left: 1em; padding-right: 1em; text-align: center; vertical-align: top\">2</td>\n",
       "        <td style=\"padding-left: 1em; padding-right: 1em; text-align: center; vertical-align: top\">Goal delight for Sheva</td>\n",
       "        <td style=\"padding-left: 1em; padding-right: 1em; text-align: center; vertical-align: top\">[delight, goal]</td>\n",
       "        <td style=\"padding-left: 1em; padding-right: 1em; text-align: center; vertical-align: top\">[#interest, #admiration,<br>#interest, #admiration] ...</td>\n",
       "        <td style=\"padding-left: 1em; padding-right: 1em; text-align: center; vertical-align: top\"></td>\n",
       "    </tr>\n",
       "    <tr>\n",
       "        <td style=\"padding-left: 1em; padding-right: 1em; text-align: center; vertical-align: top\">3</td>\n",
       "        <td style=\"padding-left: 1em; padding-right: 1em; text-align: center; vertical-align: top\">Nigeria hostage feared<br>dead is freed ...</td>\n",
       "        <td style=\"padding-left: 1em; padding-right: 1em; text-align: center; vertical-align: top\">[hostage, dead]</td>\n",
       "        <td style=\"padding-left: 1em; padding-right: 1em; text-align: center; vertical-align: top\">[#sadness, #fear, #fear,<br>#disgust] ...</td>\n",
       "        <td style=\"padding-left: 1em; padding-right: 1em; text-align: center; vertical-align: top\"></td>\n",
       "    </tr>\n",
       "    <tr>\n",
       "        <td style=\"padding-left: 1em; padding-right: 1em; text-align: center; vertical-align: top\">4</td>\n",
       "        <td style=\"padding-left: 1em; padding-right: 1em; text-align: center; vertical-align: top\">Bombers kill shoppers</td>\n",
       "        <td style=\"padding-left: 1em; padding-right: 1em; text-align: center; vertical-align: top\">[kill, kill]</td>\n",
       "        <td style=\"padding-left: 1em; padding-right: 1em; text-align: center; vertical-align: top\">[#sadness, #disgust,<br>#sadness, #disgust] ...</td>\n",
       "        <td style=\"padding-left: 1em; padding-right: 1em; text-align: center; vertical-align: top\"></td>\n",
       "    </tr>\n",
       "    <tr>\n",
       "        <td style=\"padding-left: 1em; padding-right: 1em; text-align: center; vertical-align: top\">5</td>\n",
       "        <td style=\"padding-left: 1em; padding-right: 1em; text-align: center; vertical-align: top\">Vegetables, not fruit,<br>slow brain decline ...</td>\n",
       "        <td style=\"padding-left: 1em; padding-right: 1em; text-align: center; vertical-align: top\">[slow, vegetable]</td>\n",
       "        <td style=\"padding-left: 1em; padding-right: 1em; text-align: center; vertical-align: top\">[#sadness, #disgust,<br>#interest, #admiration] ...</td>\n",
       "        <td style=\"padding-left: 1em; padding-right: 1em; text-align: center; vertical-align: top\"></td>\n",
       "    </tr>\n",
       "    <tr>\n",
       "        <td style=\"padding-left: 1em; padding-right: 1em; text-align: center; vertical-align: top\">6</td>\n",
       "        <td style=\"padding-left: 1em; padding-right: 1em; text-align: center; vertical-align: top\">PM: Havana deal a good<br>experiment ...</td>\n",
       "        <td style=\"padding-left: 1em; padding-right: 1em; text-align: center; vertical-align: top\">[good, experiment]</td>\n",
       "        <td style=\"padding-left: 1em; padding-right: 1em; text-align: center; vertical-align: top\">[#surprise, #admiration,<br>#interest, #admiration] ...</td>\n",
       "        <td style=\"padding-left: 1em; padding-right: 1em; text-align: center; vertical-align: top\"></td>\n",
       "    </tr>\n",
       "    <tr>\n",
       "        <td style=\"padding-left: 1em; padding-right: 1em; text-align: center; vertical-align: top\">7</td>\n",
       "        <td style=\"padding-left: 1em; padding-right: 1em; text-align: center; vertical-align: top\">Kate is marrying Doherty</td>\n",
       "        <td style=\"padding-left: 1em; padding-right: 1em; text-align: center; vertical-align: top\">[marry, marry]</td>\n",
       "        <td style=\"padding-left: 1em; padding-right: 1em; text-align: center; vertical-align: top\">[#sadness, #anger,<br>#sadness, #anger] ...</td>\n",
       "        <td style=\"padding-left: 1em; padding-right: 1em; text-align: center; vertical-align: top\"></td>\n",
       "    </tr>\n",
       "    <tr>\n",
       "        <td style=\"padding-left: 1em; padding-right: 1em; text-align: center; vertical-align: top\">8</td>\n",
       "        <td style=\"padding-left: 1em; padding-right: 1em; text-align: center; vertical-align: top\">NASA revisiting life on<br>Mars question ...</td>\n",
       "        <td style=\"padding-left: 1em; padding-right: 1em; text-align: center; vertical-align: top\">[nasa, question]</td>\n",
       "        <td style=\"padding-left: 1em; padding-right: 1em; text-align: center; vertical-align: top\">[#joy, #admiration,<br>#interest, #admiration] ...</td>\n",
       "        <td style=\"padding-left: 1em; padding-right: 1em; text-align: center; vertical-align: top\"></td>\n",
       "    </tr>\n",
       "    <tr>\n",
       "        <td style=\"padding-left: 1em; padding-right: 1em; text-align: center; vertical-align: top\">9</td>\n",
       "        <td style=\"padding-left: 1em; padding-right: 1em; text-align: center; vertical-align: top\">Happy birthday, iPod</td>\n",
       "        <td style=\"padding-left: 1em; padding-right: 1em; text-align: center; vertical-align: top\">[ipod, birthday]</td>\n",
       "        <td style=\"padding-left: 1em; padding-right: 1em; text-align: center; vertical-align: top\">[#joy, #admiration, #joy,<br>#admiration] ...</td>\n",
       "        <td style=\"padding-left: 1em; padding-right: 1em; text-align: center; vertical-align: top\"></td>\n",
       "    </tr>\n",
       "    <tr>\n",
       "        <td style=\"padding-left: 1em; padding-right: 1em; text-align: center; vertical-align: top\">10</td>\n",
       "        <td style=\"padding-left: 1em; padding-right: 1em; text-align: center; vertical-align: top\">Alonso would be happy to<br>retire with three titles ...</td>\n",
       "        <td style=\"padding-left: 1em; padding-right: 1em; text-align: center; vertical-align: top\">[retire, three]</td>\n",
       "        <td style=\"padding-left: 1em; padding-right: 1em; text-align: center; vertical-align: top\">[#joy, #interest, #anger,<br>#disgust] ...</td>\n",
       "        <td style=\"padding-left: 1em; padding-right: 1em; text-align: center; vertical-align: top\"></td>\n",
       "    </tr>\n",
       "</table>\n",
       "[250 rows x 5 columns]<br/>Note: Only the head of the SFrame is printed.<br/>You can use print_rows(num_rows=m, num_columns=n) to print more rows and columns.\n",
       "</div>"
      ],
      "text/plain": [
       "Columns:\n",
       "\tid\tint\n",
       "\theadline\tstr\n",
       "\tkeyword\tlist\n",
       "\tsentiment\tlist\n",
       "\tX5\tstr\n",
       "\n",
       "Rows: 250\n",
       "\n",
       "Data:\n",
       "+----+-------------------------------+--------------------+\n",
       "| id |            headline           |      keyword       |\n",
       "+----+-------------------------------+--------------------+\n",
       "| 1  | Mortar assault leaves at l... |  [mortar, leave]   |\n",
       "| 2  |     Goal delight for Sheva    |  [delight, goal]   |\n",
       "| 3  | Nigeria hostage feared dea... |  [hostage, dead]   |\n",
       "| 4  |     Bombers kill shoppers     |    [kill, kill]    |\n",
       "| 5  | Vegetables, not fruit, slo... | [slow, vegetable]  |\n",
       "| 6  | PM: Havana deal a good exp... | [good, experiment] |\n",
       "| 7  |    Kate is marrying Doherty   |   [marry, marry]   |\n",
       "| 8  | NASA revisiting life on Ma... |  [nasa, question]  |\n",
       "| 9  |      Happy birthday, iPod     |  [ipod, birthday]  |\n",
       "| 10 | Alonso would be happy to r... |  [retire, three]   |\n",
       "+----+-------------------------------+--------------------+\n",
       "+-------------------------------+----+\n",
       "|           sentiment           | X5 |\n",
       "+-------------------------------+----+\n",
       "| [#fear, #disgust, #admirat... |    |\n",
       "| [#interest, #admiration, #... |    |\n",
       "| [#sadness, #fear, #fear, #... |    |\n",
       "| [#sadness, #disgust, #sadn... |    |\n",
       "| [#sadness, #disgust, #inte... |    |\n",
       "| [#surprise, #admiration, #... |    |\n",
       "| [#sadness, #anger, #sadnes... |    |\n",
       "| [#joy, #admiration, #inter... |    |\n",
       "| [#joy, #admiration, #joy, ... |    |\n",
       "| [#joy, #interest, #anger, ... |    |\n",
       "+-------------------------------+----+\n",
       "[250 rows x 5 columns]\n",
       "Note: Only the head of the SFrame is printed.\n",
       "You can use print_rows(num_rows=m, num_columns=n) to print more rows and columns."
      ]
     },
     "execution_count": 27,
     "metadata": {},
     "output_type": "execute_result"
    }
   ],
   "source": [
    "sf=graphlab.SFrame('affectivetext_trial_teste1.csv')\n",
    "sf"
   ]
  },
  {
   "cell_type": "code",
   "execution_count": 28,
   "metadata": {
    "collapsed": false
   },
   "outputs": [],
   "source": [
    "graphlab.canvas.set_target('ipynb')"
   ]
  },
  {
   "cell_type": "code",
   "execution_count": null,
   "metadata": {
    "collapsed": true
   },
   "outputs": [],
   "source": [
    "#Categorias de Sentimentos "
   ]
  },
  {
   "cell_type": "code",
   "execution_count": 30,
   "metadata": {
    "collapsed": false
   },
   "outputs": [
    {
     "data": {
      "application/javascript": [
       "$(\"head\").append($(\"<link/>\").attr({\n",
       "  rel:  \"stylesheet\",\n",
       "  type: \"text/css\",\n",
       "  href: \"//cdnjs.cloudflare.com/ajax/libs/font-awesome/4.1.0/css/font-awesome.min.css\"\n",
       "}));\n",
       "$(\"head\").append($(\"<link/>\").attr({\n",
       "  rel:  \"stylesheet\",\n",
       "  type: \"text/css\",\n",
       "  href: \"https://static.turi.com/products/graphlab-create/2.1/canvas/css/canvas.css\"\n",
       "}));\n",
       "\n",
       "            (function(){\n",
       "\n",
       "                var e = null;\n",
       "                if (typeof element == 'undefined') {\n",
       "                    var scripts = document.getElementsByTagName('script');\n",
       "                    var thisScriptTag = scripts[scripts.length-1];\n",
       "                    var parentDiv = thisScriptTag.parentNode;\n",
       "                    e = document.createElement('div');\n",
       "                    parentDiv.appendChild(e);\n",
       "                } else {\n",
       "                    e = element[0];\n",
       "                }\n",
       "\n",
       "                if (typeof requirejs !== 'undefined') {\n",
       "                    // disable load timeout; ipython_app.js is large and can take a while to load.\n",
       "                    requirejs.config({waitSeconds: 0});\n",
       "                }\n",
       "\n",
       "                require(['https://static.turi.com/products/graphlab-create/2.1/canvas/js/ipython_app.js'], function(IPythonApp){\n",
       "                    var app = new IPythonApp();\n",
       "                    app.attachView('sarray','List', {\"ipython\": true, \"sketch\": {\"complete\": true, \"numeric\": false, \"num_unique\": 8, \"num_undefined\": 0, \"progress\": 1.0, \"frequent_items\": {\"#admiration\": {\"frequency\": 222, \"value\": \"#admiration\"}, \"#disgust\": {\"frequency\": 139, \"value\": \"#disgust\"}, \"#anger\": {\"frequency\": 59, \"value\": \"#anger\"}, \"#sadness\": {\"frequency\": 115, \"value\": \"#sadness\"}, \"#fear\": {\"frequency\": 69, \"value\": \"#fear\"}, \"#joy\": {\"frequency\": 134, \"value\": \"#joy\"}, \"#surprise\": {\"frequency\": 45, \"value\": \"#surprise\"}, \"#interest\": {\"frequency\": 199, \"value\": \"#interest\"}}, \"size\": 982}, \"selected_variable\": {\"name\": [\"<SArray>\"], \"dtype\": \"list\", \"view_component\": \"List\", \"view_file\": \"sarray\", \"descriptives\": {\"rows\": 250}, \"type\": \"SArray\", \"view_components\": [\"List\"]}, \"histogram\": null}, e);\n",
       "                });\n",
       "            })();\n",
       "        "
      ]
     },
     "metadata": {},
     "output_type": "display_data"
    }
   ],
   "source": [
    "sf['sentiment'].show(view='List')"
   ]
  },
  {
   "cell_type": "code",
   "execution_count": null,
   "metadata": {
    "collapsed": true
   },
   "outputs": [],
   "source": [
    "#keywords com maior frequencia"
   ]
  },
  {
   "cell_type": "code",
   "execution_count": 31,
   "metadata": {
    "collapsed": false
   },
   "outputs": [
    {
     "data": {
      "application/javascript": [
       "$(\"head\").append($(\"<link/>\").attr({\n",
       "  rel:  \"stylesheet\",\n",
       "  type: \"text/css\",\n",
       "  href: \"//cdnjs.cloudflare.com/ajax/libs/font-awesome/4.1.0/css/font-awesome.min.css\"\n",
       "}));\n",
       "$(\"head\").append($(\"<link/>\").attr({\n",
       "  rel:  \"stylesheet\",\n",
       "  type: \"text/css\",\n",
       "  href: \"https://static.turi.com/products/graphlab-create/2.1/canvas/css/canvas.css\"\n",
       "}));\n",
       "\n",
       "            (function(){\n",
       "\n",
       "                var e = null;\n",
       "                if (typeof element == 'undefined') {\n",
       "                    var scripts = document.getElementsByTagName('script');\n",
       "                    var thisScriptTag = scripts[scripts.length-1];\n",
       "                    var parentDiv = thisScriptTag.parentNode;\n",
       "                    e = document.createElement('div');\n",
       "                    parentDiv.appendChild(e);\n",
       "                } else {\n",
       "                    e = element[0];\n",
       "                }\n",
       "\n",
       "                if (typeof requirejs !== 'undefined') {\n",
       "                    // disable load timeout; ipython_app.js is large and can take a while to load.\n",
       "                    requirejs.config({waitSeconds: 0});\n",
       "                }\n",
       "\n",
       "                require(['https://static.turi.com/products/graphlab-create/2.1/canvas/js/ipython_app.js'], function(IPythonApp){\n",
       "                    var app = new IPythonApp();\n",
       "                    app.attachView('sarray','List', {\"ipython\": true, \"sketch\": {\"complete\": true, \"numeric\": false, \"num_unique\": 388, \"num_undefined\": 0, \"progress\": 1.0, \"frequent_items\": {\"forges\": {\"frequency\": 1, \"value\": \"forges\"}, \"chinese\": {\"frequency\": 1, \"value\": \"chinese\"}, \"global\": {\"frequency\": 2, \"value\": \"global\"}, \"focus\": {\"frequency\": 1, \"value\": \"focus\"}, \"wrangle\": {\"frequency\": 1, \"value\": \"wrangle\"}, \"protest\": {\"frequency\": 1, \"value\": \"protest\"}, \"bomb\": {\"frequency\": 1, \"value\": \"bomb\"}, \"killings\": {\"frequency\": 1, \"value\": \"killings\"}, \"arrogance\": {\"frequency\": 1, \"value\": \"arrogance\"}, \"riots\": {\"frequency\": 1, \"value\": \"riots\"}, \"terror\": {\"frequency\": 1, \"value\": \"terror\"}, \"sorry\": {\"frequency\": 1, \"value\": \"sorry\"}, \"probe\": {\"frequency\": 1, \"value\": \"probe\"}, \"worse\": {\"frequency\": 1, \"value\": \"worse\"}, \"fat\": {\"frequency\": 1, \"value\": \"fat\"}, \"school\": {\"frequency\": 2, \"value\": \"school\"}, \"dating\": {\"frequency\": 1, \"value\": \"dating\"}, \"magic\": {\"frequency\": 1, \"value\": \"magic\"}, \"prize\": {\"frequency\": 1, \"value\": \"prize\"}, \"die\": {\"frequency\": 2, \"value\": \"die\"}, \"marry\": {\"frequency\": 2, \"value\": \"marry\"}, \"list\": {\"frequency\": 1, \"value\": \"list\"}, \"leave\": {\"frequency\": 2, \"value\": \"leave\"}, \"harry\": {\"frequency\": 1, \"value\": \"harry\"}, \"small\": {\"frequency\": 1, \"value\": \"small\"}, \"prevent\": {\"frequency\": 2, \"value\": \"prevent\"}, \"says\": {\"frequency\": 3, \"value\": \"says\"}, \"regret\": {\"frequency\": 1, \"value\": \"regret\"}, \"flu\": {\"frequency\": 3, \"value\": \"flu\"}, \"reins\": {\"frequency\": 1, \"value\": \"reins\"}, \"discover\": {\"frequency\": 1, \"value\": \"discover\"}, \"jump\": {\"frequency\": 1, \"value\": \"jump\"}, \"zero\": {\"frequency\": 1, \"value\": \"zero\"}, \"cost\": {\"frequency\": 1, \"value\": \"cost\"}, \"crackup\": {\"frequency\": 1, \"value\": \"crackup\"}, \"sun\": {\"frequency\": 2, \"value\": \"sun\"}, \"cooking\": {\"frequency\": 1, \"value\": \"cooking\"}, \"anniversary\": {\"frequency\": 2, \"value\": \"anniversary\"}, \"experiment\": {\"frequency\": 1, \"value\": \"experiment\"}, \"suspect\": {\"frequency\": 1, \"value\": \"suspect\"}, \"new\": {\"frequency\": 2, \"value\": \"new\"}, \"journal\": {\"frequency\": 2, \"value\": \"journal\"}, \"seeks\": {\"frequency\": 1, \"value\": \"seeks\"}, \"full\": {\"frequency\": 1, \"value\": \"full\"}, \"sinks\": {\"frequency\": 2, \"value\": \"sinks\"}, \"busy\": {\"frequency\": 1, \"value\": \"busy\"}, \"poverty\": {\"frequency\": 1, \"value\": \"poverty\"}, \"active\": {\"frequency\": 1, \"value\": \"active\"}, \"box\": {\"frequency\": 1, \"value\": \"box\"}, \"boy\": {\"frequency\": 1, \"value\": \"boy\"}, \"search\": {\"frequency\": 2, \"value\": \"search\"}, \"auction\": {\"frequency\": 2, \"value\": \"auction\"}, \"slow\": {\"frequency\": 2, \"value\": \"slow\"}, \"study\": {\"frequency\": 5, \"value\": \"study\"}, \"credit\": {\"frequency\": 1, \"value\": \"credit\"}, \"inspires\": {\"frequency\": 1, \"value\": \"inspires\"}, \"criticism\": {\"frequency\": 1, \"value\": \"criticism\"}, \"writer\": {\"frequency\": 1, \"value\": \"writer\"}, \"spy\": {\"frequency\": 1, \"value\": \"spy\"}, \"replace\": {\"frequency\": 1, \"value\": \"replace\"}, \"sanction\": {\"frequency\": 1, \"value\": \"sanction\"}, \"scandal\": {\"frequency\": 1, \"value\": \"scandal\"}, \"plot\": {\"frequency\": 3, \"value\": \"plot\"}, \"khan\": {\"frequency\": 1, \"value\": \"khan\"}, \"troops\": {\"frequency\": 1, \"value\": \"troops\"}, \"army\": {\"frequency\": 1, \"value\": \"army\"}, \"illegal\": {\"frequency\": 1, \"value\": \"illegal\"}, \"calm\": {\"frequency\": 1, \"value\": \"calm\"}, \"teen\": {\"frequency\": 1, \"value\": \"teen\"}, \"club\": {\"frequency\": 1, \"value\": \"club\"}, \"brings\": {\"frequency\": 1, \"value\": \"brings\"}, \"owners\": {\"frequency\": 1, \"value\": \"owners\"}, \"warn\": {\"frequency\": 1, \"value\": \"warn\"}, \"hold\": {\"frequency\": 1, \"value\": \"hold\"}, \"hour\": {\"frequency\": 1, \"value\": \"hour\"}, \"insists\": {\"frequency\": 2, \"value\": \"insists\"}, \"remain\": {\"frequency\": 1, \"value\": \"remain\"}, \"starts\": {\"frequency\": 1, \"value\": \"starts\"}, \"ferry\": {\"frequency\": 1, \"value\": \"ferry\"}, \"drops\": {\"frequency\": 1, \"value\": \"drops\"}, \"streak\": {\"frequency\": 1, \"value\": \"streak\"}, \"heart\": {\"frequency\": 2, \"value\": \"heart\"}, \"pony\": {\"frequency\": 1, \"value\": \"pony\"}, \"expanding\": {\"frequency\": 2, \"value\": \"expanding\"}, \"laughs\": {\"frequency\": 1, \"value\": \"laughs\"}, \"collision\": {\"frequency\": 1, \"value\": \"collision\"}, \"reserves\": {\"frequency\": 1, \"value\": \"reserves\"}, \"protects\": {\"frequency\": 1, \"value\": \"protects\"}, \"chic\": {\"frequency\": 1, \"value\": \"chic\"}, \"counting\": {\"frequency\": 1, \"value\": \"counting\"}, \"risk\": {\"frequency\": 2, \"value\": \"risk\"}, \"goal\": {\"frequency\": 2, \"value\": \"goal\"}, \"poetry\": {\"frequency\": 1, \"value\": \"poetry\"}, \"dismisses\": {\"frequency\": 1, \"value\": \"dismisses\"}, \"tension\": {\"frequency\": 1, \"value\": \"tension\"}, \"plant\": {\"frequency\": 1, \"value\": \"plant\"}, \"plans\": {\"frequency\": 1, \"value\": \"plans\"}, \"may\": {\"frequency\": 3, \"value\": \"may\"}, \"uprising\": {\"frequency\": 1, \"value\": \"uprising\"}, \"highs\": {\"frequency\": 1, \"value\": \"highs\"}, \"birthday\": {\"frequency\": 1, \"value\": \"birthday\"}, \"mocks\": {\"frequency\": 1, \"value\": \"mocks\"}, \"president\": {\"frequency\": 1, \"value\": \"president\"}, \"Apple\": {\"frequency\": 1, \"value\": \"Apple\"}, \"wins\": {\"frequency\": 3, \"value\": \"wins\"}, \"addiction\": {\"frequency\": 1, \"value\": \"addiction\"}, \"help\": {\"frequency\": 2, \"value\": \"help\"}, \"office\": {\"frequency\": 1, \"value\": \"office\"}, \"years\": {\"frequency\": 1, \"value\": \"years\"}, \"paper\": {\"frequency\": 1, \"value\": \"paper\"}, \"london\": {\"frequency\": 1, \"value\": \"london\"}, \"perfect\": {\"frequency\": 1, \"value\": \"perfect\"}, \"police\": {\"frequency\": 2, \"value\": \"police\"}, \"acknowledge\": {\"frequency\": 1, \"value\": \"acknowledge\"}, \"torn\": {\"frequency\": 1, \"value\": \"torn\"}, \"speaker\": {\"frequency\": 1, \"value\": \"speaker\"}, \"dad\": {\"frequency\": 2, \"value\": \"dad\"}, \"hurting\": {\"frequency\": 1, \"value\": \"hurting\"}, \"good\": {\"frequency\": 5, \"value\": \"good\"}, \"crash\": {\"frequency\": 2, \"value\": \"crash\"}, \"safe\": {\"frequency\": 1, \"value\": \"safe\"}, \"flee\": {\"frequency\": 1, \"value\": \"flee\"}, \"killed\": {\"frequency\": 2, \"value\": \"killed\"}, \"name\": {\"frequency\": 1, \"value\": \"name\"}, \"opera\": {\"frequency\": 1, \"value\": \"opera\"}, \"truths\": {\"frequency\": 1, \"value\": \"truths\"}, \"heavy\": {\"frequency\": 3, \"value\": \"heavy\"}, \"weighs\": {\"frequency\": 1, \"value\": \"weighs\"}, \"literature\": {\"frequency\": 1, \"value\": \"literature\"}, \"calling\": {\"frequency\": 1, \"value\": \"calling\"}, \"special\": {\"frequency\": 1, \"value\": \"special\"}, \"hacker\": {\"frequency\": 1, \"value\": \"hacker\"}, \"missed\": {\"frequency\": 1, \"value\": \"missed\"}, \"space\": {\"frequency\": 1, \"value\": \"space\"}, \"safety\": {\"frequency\": 1, \"value\": \"safety\"}, \"internet\": {\"frequency\": 1, \"value\": \"internet\"}, \"washes\": {\"frequency\": 1, \"value\": \"washes\"}, \"earns\": {\"frequency\": 1, \"value\": \"earns\"}, \"ipod\": {\"frequency\": 1, \"value\": \"ipod\"}, \"admits\": {\"frequency\": 2, \"value\": \"admits\"}, \"reason\": {\"frequency\": 1, \"value\": \"reason\"}, \"alzheimer\": {\"frequency\": 1, \"value\": \"alzheimer\"}, \"marine\": {\"frequency\": 1, \"value\": \"marine\"}, \"revolutionary\": {\"frequency\": 1, \"value\": \"revolutionary\"}, \"comrade\": {\"frequency\": 1, \"value\": \"comrade\"}, \"benefits\": {\"frequency\": 1, \"value\": \"benefits\"}, \"launch\": {\"frequency\": 1, \"value\": \"launch\"}, \"mortar\": {\"frequency\": 1, \"value\": \"mortar\"}, \"sitcom\": {\"frequency\": 1, \"value\": \"sitcom\"}, \"motion\": {\"frequency\": 1, \"value\": \"motion\"}, \"appeals\": {\"frequency\": 1, \"value\": \"appeals\"}, \"researcher\": {\"frequency\": 1, \"value\": \"researcher\"}, \"restrict\": {\"frequency\": 1, \"value\": \"restrict\"}, \"sober\": {\"frequency\": 1, \"value\": \"sober\"}, \"force\": {\"frequency\": 2, \"value\": \"force\"}, \"miss\": {\"frequency\": 1, \"value\": \"miss\"}, \"spinach\": {\"frequency\": 1, \"value\": \"spinach\"}, \"divorce\": {\"frequency\": 1, \"value\": \"divorce\"}, \"top\": {\"frequency\": 1, \"value\": \"top\"}, \"girls\": {\"frequency\": 1, \"value\": \"girls\"}, \"tot\": {\"frequency\": 1, \"value\": \"tot\"}, \"attack\": {\"frequency\": 2, \"value\": \"attack\"}, \"station\": {\"frequency\": 1, \"value\": \"station\"}, \"storm\": {\"frequency\": 2, \"value\": \"storm\"}, \"inconvenient\": {\"frequency\": 1, \"value\": \"inconvenient\"}, \"perfectly\": {\"frequency\": 1, \"value\": \"perfectly\"}, \"seduced\": {\"frequency\": 1, \"value\": \"seduced\"}, \"eyes\": {\"frequency\": 1, \"value\": \"eyes\"}, \"shell\": {\"frequency\": 1, \"value\": \"shell\"}, \"releases\": {\"frequency\": 1, \"value\": \"releases\"}, \"rejected\": {\"frequency\": 1, \"value\": \"rejected\"}, \"immigrant\": {\"frequency\": 1, \"value\": \"immigrant\"}, \"kind\": {\"frequency\": 1, \"value\": \"kind\"}, \"double\": {\"frequency\": 1, \"value\": \"double\"}, \"rate\": {\"frequency\": 1, \"value\": \"rate\"}, \"bed\": {\"frequency\": 1, \"value\": \"bed\"}, \"claim\": {\"frequency\": 1, \"value\": \"claim\"}, \"patients\": {\"frequency\": 1, \"value\": \"patients\"}, \"silly\": {\"frequency\": 1, \"value\": \"silly\"}, \"damned\": {\"frequency\": 1, \"value\": \"damned\"}, \"say\": {\"frequency\": 1, \"value\": \"say\"}, \"substantial\": {\"frequency\": 1, \"value\": \"substantial\"}, \"tells\": {\"frequency\": 1, \"value\": \"tells\"}, \"mix\": {\"frequency\": 1, \"value\": \"mix\"}, \"online\": {\"frequency\": 1, \"value\": \"online\"}, \"play\": {\"frequency\": 1, \"value\": \"play\"}, \"reach\": {\"frequency\": 2, \"value\": \"reach\"}, \"kidnapping\": {\"frequency\": 2, \"value\": \"kidnapping\"}, \"depths\": {\"frequency\": 1, \"value\": \"depths\"}, \"device\": {\"frequency\": 1, \"value\": \"device\"}, \"prestige\": {\"frequency\": 1, \"value\": \"prestige\"}, \"approved\": {\"frequency\": 1, \"value\": \"approved\"}, \"mobile\": {\"frequency\": 1, \"value\": \"mobile\"}, \"plague\": {\"frequency\": 1, \"value\": \"plague\"}, \"shot\": {\"frequency\": 1, \"value\": \"shot\"}, \"rebels\": {\"frequency\": 1, \"value\": \"rebels\"}, \"retire\": {\"frequency\": 1, \"value\": \"retire\"}, \"fine\": {\"frequency\": 1, \"value\": \"fine\"}, \"find\": {\"frequency\": 1, \"value\": \"find\"}, \"snack\": {\"frequency\": 1, \"value\": \"snack\"}, \"based\": {\"frequency\": 1, \"value\": \"based\"}, \"winner\": {\"frequency\": 1, \"value\": \"winner\"}, \"pretty\": {\"frequency\": 1, \"value\": \"pretty\"}, \"announce\": {\"frequency\": 1, \"value\": \"announce\"}, \"rice\": {\"frequency\": 1, \"value\": \"rice\"}, \"jailed\": {\"frequency\": 1, \"value\": \"jailed\"}, \"giants\": {\"frequency\": 1, \"value\": \"giants\"}, \"gains\": {\"frequency\": 1, \"value\": \"gains\"}, \"get\": {\"frequency\": 1, \"value\": \"get\"}, \"hostage\": {\"frequency\": 1, \"value\": \"hostage\"}, \"massacre\": {\"frequency\": 1, \"value\": \"massacre\"}, \"cardinals\": {\"frequency\": 1, \"value\": \"cardinals\"}, \"wedding\": {\"frequency\": 2, \"value\": \"wedding\"}, \"report\": {\"frequency\": 1, \"value\": \"report\"}, \"rite\": {\"frequency\": 1, \"value\": \"rite\"}, \"celebrate\": {\"frequency\": 1, \"value\": \"celebrate\"}, \"idiotic\": {\"frequency\": 2, \"value\": \"idiotic\"}, \"bay\": {\"frequency\": 1, \"value\": \"bay\"}, \"bad\": {\"frequency\": 1, \"value\": \"bad\"}, \"stupid\": {\"frequency\": 1, \"value\": \"stupid\"}, \"troop\": {\"frequency\": 1, \"value\": \"troop\"}, \"ban\": {\"frequency\": 2, \"value\": \"ban\"}, \"marred\": {\"frequency\": 1, \"value\": \"marred\"}, \"redefine\": {\"frequency\": 1, \"value\": \"redefine\"}, \"set\": {\"frequency\": 3, \"value\": \"set\"}, \"ends\": {\"frequency\": 1, \"value\": \"ends\"}, \"sex\": {\"frequency\": 2, \"value\": \"sex\"}, \"detection\": {\"frequency\": 2, \"value\": \"detection\"}, \"college\": {\"frequency\": 1, \"value\": \"college\"}, \"threats\": {\"frequency\": 1, \"value\": \"threats\"}, \"nuclear\": {\"frequency\": 1, \"value\": \"nuclear\"}, \"mud\": {\"frequency\": 2, \"value\": \"mud\"}, \"tainted\": {\"frequency\": 2, \"value\": \"tainted\"}, \"joy\": {\"frequency\": 1, \"value\": \"joy\"}, \"enjoys\": {\"frequency\": 1, \"value\": \"enjoys\"}, \"europe\": {\"frequency\": 1, \"value\": \"europe\"}, \"accord\": {\"frequency\": 1, \"value\": \"accord\"}, \"missing\": {\"frequency\": 4, \"value\": \"missing\"}, \"confusion\": {\"frequency\": 1, \"value\": \"confusion\"}, \"outer\": {\"frequency\": 1, \"value\": \"outer\"}, \"hits\": {\"frequency\": 2, \"value\": \"hits\"}, \"connection\": {\"frequency\": 1, \"value\": \"connection\"}, \"games\": {\"frequency\": 2, \"value\": \"games\"}, \"sexes\": {\"frequency\": 1, \"value\": \"sexes\"}, \"finds\": {\"frequency\": 1, \"value\": \"finds\"}, \"cancer\": {\"frequency\": 3, \"value\": \"cancer\"}, \"battery\": {\"frequency\": 1, \"value\": \"battery\"}, \"sweet\": {\"frequency\": 2, \"value\": \"sweet\"}, \"insist\": {\"frequency\": 1, \"value\": \"insist\"}, \"create\": {\"frequency\": 1, \"value\": \"create\"}, \"three\": {\"frequency\": 2, \"value\": \"three\"}, \"strategy\": {\"frequency\": 1, \"value\": \"strategy\"}, \"suburbs\": {\"frequency\": 1, \"value\": \"suburbs\"}, \"secret\": {\"frequency\": 1, \"value\": \"secret\"}, \"life\": {\"frequency\": 7, \"value\": \"life\"}, \"lived\": {\"frequency\": 1, \"value\": \"lived\"}, \"fire\": {\"frequency\": 2, \"value\": \"fire\"}, \"thousand\": {\"frequency\": 1, \"value\": \"thousand\"}, \"gas\": {\"frequency\": 1, \"value\": \"gas\"}, \"tiger\": {\"frequency\": 1, \"value\": \"tiger\"}, \"abortions\": {\"frequency\": 1, \"value\": \"abortions\"}, \"child\": {\"frequency\": 1, \"value\": \"child\"}, \"pilot\": {\"frequency\": 1, \"value\": \"pilot\"}, \"launches\": {\"frequency\": 2, \"value\": \"launches\"}, \"runway\": {\"frequency\": 1, \"value\": \"runway\"}, \"leaves\": {\"frequency\": 1, \"value\": \"leaves\"}, \"soil\": {\"frequency\": 1, \"value\": \"soil\"}, \"canceled\": {\"frequency\": 1, \"value\": \"canceled\"}, \"optimistic\": {\"frequency\": 1, \"value\": \"optimistic\"}, \"government\": {\"frequency\": 1, \"value\": \"government\"}, \"linked\": {\"frequency\": 1, \"value\": \"linked\"}, \"member\": {\"frequency\": 1, \"value\": \"member\"}, \"speech\": {\"frequency\": 1, \"value\": \"speech\"}, \"vegetable\": {\"frequency\": 1, \"value\": \"vegetable\"}, \"injured\": {\"frequency\": 1, \"value\": \"injured\"}, \"osorio\": {\"frequency\": 1, \"value\": \"osorio\"}, \"raid\": {\"frequency\": 1, \"value\": \"raid\"}, \"driver\": {\"frequency\": 1, \"value\": \"driver\"}, \"delight\": {\"frequency\": 1, \"value\": \"delight\"}, \"suburb\": {\"frequency\": 1, \"value\": \"suburb\"}, \"running\": {\"frequency\": 1, \"value\": \"running\"}, \"climbing\": {\"frequency\": 1, \"value\": \"climbing\"}, \"opportunity\": {\"frequency\": 1, \"value\": \"opportunity\"}, \"center\": {\"frequency\": 1, \"value\": \"center\"}, \"calouries\": {\"frequency\": 1, \"value\": \"calouries\"}, \"foreigners\": {\"frequency\": 1, \"value\": \"foreigners\"}, \"rest\": {\"frequency\": 2, \"value\": \"rest\"}, \"judge\": {\"frequency\": 1, \"value\": \"judge\"}, \"violent\": {\"frequency\": 1, \"value\": \"violent\"}, \"kill\": {\"frequency\": 5, \"value\": \"kill\"}, \"touch\": {\"frequency\": 1, \"value\": \"touch\"}, \"web\": {\"frequency\": 1, \"value\": \"web\"}, \"cut\": {\"frequency\": 1, \"value\": \"cut\"}, \"photographer\": {\"frequency\": 3, \"value\": \"photographer\"}, \"workers\": {\"frequency\": 1, \"value\": \"workers\"}, \"reasons\": {\"frequency\": 1, \"value\": \"reasons\"}, \"add\": {\"frequency\": 1, \"value\": \"add\"}, \"spread\": {\"frequency\": 1, \"value\": \"spread\"}, \"knock\": {\"frequency\": 1, \"value\": \"knock\"}, \"bands\": {\"frequency\": 1, \"value\": \"bands\"}, \"bid\": {\"frequency\": 1, \"value\": \"bid\"}, \"digital\": {\"frequency\": 2, \"value\": \"digital\"}, \"game\": {\"frequency\": 1, \"value\": \"game\"}, \"five\": {\"frequency\": 1, \"value\": \"five\"}, \"birth\": {\"frequency\": 1, \"value\": \"birth\"}, \"press\": {\"frequency\": 1, \"value\": \"press\"}, \"loss\": {\"frequency\": 1, \"value\": \"loss\"}, \"separately\": {\"frequency\": 1, \"value\": \"separately\"}, \"journalist\": {\"frequency\": 1, \"value\": \"journalist\"}, \"right\": {\"frequency\": 2, \"value\": \"right\"}, \"jews\": {\"frequency\": 1, \"value\": \"jews\"}, \"deal\": {\"frequency\": 2, \"value\": \"deal\"}, \"successfully\": {\"frequency\": 1, \"value\": \"successfully\"}, \"dead\": {\"frequency\": 3, \"value\": \"dead\"}, \"election\": {\"frequency\": 1, \"value\": \"election\"}, \"peter\": {\"frequency\": 1, \"value\": \"peter\"}, \"avoid\": {\"frequency\": 1, \"value\": \"avoid\"}, \"hurricane\": {\"frequency\": 2, \"value\": \"hurricane\"}, \"beating\": {\"frequency\": 1, \"value\": \"beating\"}, \"biology\": {\"frequency\": 1, \"value\": \"biology\"}, \"run\": {\"frequency\": 1, \"value\": \"run\"}, \"power\": {\"frequency\": 2, \"value\": \"power\"}, \"jumps\": {\"frequency\": 1, \"value\": \"jumps\"}, \"choked\": {\"frequency\": 1, \"value\": \"choked\"}, \"vaccine\": {\"frequency\": 1, \"value\": \"vaccine\"}, \"chapter\": {\"frequency\": 1, \"value\": \"chapter\"}, \"anatomy\": {\"frequency\": 1, \"value\": \"anatomy\"}, \"violence\": {\"frequency\": 2, \"value\": \"violence\"}, \"magazine\": {\"frequency\": 1, \"value\": \"magazine\"}, \"road\": {\"frequency\": 1, \"value\": \"road\"}, \"scorns\": {\"frequency\": 1, \"value\": \"scorns\"}, \"protests\": {\"frequency\": 1, \"value\": \"protests\"}, \"bath\": {\"frequency\": 2, \"value\": \"bath\"}, \"pair\": {\"frequency\": 2, \"value\": \"pair\"}, \"strip\": {\"frequency\": 1, \"value\": \"strip\"}, \"question\": {\"frequency\": 1, \"value\": \"question\"}, \"beer\": {\"frequency\": 1, \"value\": \"beer\"}, \"awarded\": {\"frequency\": 1, \"value\": \"awarded\"}, \"gig\": {\"frequency\": 1, \"value\": \"gig\"}, \"start\": {\"frequency\": 1, \"value\": \"start\"}, \"stars\": {\"frequency\": 1, \"value\": \"stars\"}, \"war\": {\"frequency\": 1, \"value\": \"war\"}, \"files\": {\"frequency\": 2, \"value\": \"files\"}, \"north\": {\"frequency\": 1, \"value\": \"north\"}, \"batman\": {\"frequency\": 1, \"value\": \"batman\"}, \"pitcher\": {\"frequency\": 1, \"value\": \"pitcher\"}, \"immigration\": {\"frequency\": 1, \"value\": \"immigration\"}, \"oil\": {\"frequency\": 1, \"value\": \"oil\"}, \"atlantic\": {\"frequency\": 1, \"value\": \"atlantic\"}, \"alive\": {\"frequency\": 1, \"value\": \"alive\"}, \"october\": {\"frequency\": 1, \"value\": \"october\"}, \"skull\": {\"frequency\": 1, \"value\": \"skull\"}, \"official\": {\"frequency\": 1, \"value\": \"official\"}, \"record\": {\"frequency\": 1, \"value\": \"record\"}, \"limit\": {\"frequency\": 1, \"value\": \"limit\"}, \"adults\": {\"frequency\": 2, \"value\": \"adults\"}, \"videos\": {\"frequency\": 1, \"value\": \"videos\"}, \"deep\": {\"frequency\": 2, \"value\": \"deep\"}, \"evidence\": {\"frequency\": 1, \"value\": \"evidence\"}, \"warning\": {\"frequency\": 1, \"value\": \"warning\"}, \"importing\": {\"frequency\": 1, \"value\": \"importing\"}, \"ship\": {\"frequency\": 1, \"value\": \"ship\"}, \"shooting\": {\"frequency\": 1, \"value\": \"shooting\"}, \"campus\": {\"frequency\": 1, \"value\": \"campus\"}, \"again\": {\"frequency\": 1, \"value\": \"again\"}, \"peace\": {\"frequency\": 1, \"value\": \"peace\"}, \"fears\": {\"frequency\": 1, \"value\": \"fears\"}, \"drugs\": {\"frequency\": 1, \"value\": \"drugs\"}, \"papers\": {\"frequency\": 2, \"value\": \"papers\"}, \"picture\": {\"frequency\": 1, \"value\": \"picture\"}, \"cleric\": {\"frequency\": 1, \"value\": \"cleric\"}, \"star\": {\"frequency\": 2, \"value\": \"star\"}, \"students\": {\"frequency\": 1, \"value\": \"students\"}, \"dies\": {\"frequency\": 3, \"value\": \"dies\"}, \"stay\": {\"frequency\": 1, \"value\": \"stay\"}, \"important\": {\"frequency\": 1, \"value\": \"important\"}, \"tackle\": {\"frequency\": 2, \"value\": \"tackle\"}, \"died\": {\"frequency\": 1, \"value\": \"died\"}, \"alcohol\": {\"frequency\": 1, \"value\": \"alcohol\"}, \"land\": {\"frequency\": 2, \"value\": \"land\"}, \"remote\": {\"frequency\": 1, \"value\": \"remote\"}, \"calls\": {\"frequency\": 1, \"value\": \"calls\"}, \"dental\": {\"frequency\": 1, \"value\": \"dental\"}, \"casts\": {\"frequency\": 1, \"value\": \"casts\"}, \"nasa\": {\"frequency\": 2, \"value\": \"nasa\"}, \"status\": {\"frequency\": 1, \"value\": \"status\"}, \"Spanish\": {\"frequency\": 1, \"value\": \"Spanish\"}, \"resolution\": {\"frequency\": 1, \"value\": \"resolution\"}}, \"size\": 491}, \"selected_variable\": {\"name\": [\"<SArray>\"], \"dtype\": \"list\", \"view_component\": \"List\", \"view_file\": \"sarray\", \"descriptives\": {\"rows\": 250}, \"type\": \"SArray\", \"view_components\": [\"List\"]}, \"histogram\": null}, e);\n",
       "                });\n",
       "            })();\n",
       "        "
      ]
     },
     "metadata": {},
     "output_type": "display_data"
    }
   ],
   "source": [
    "sf['keyword'].show(view='List')"
   ]
  }
 ],
 "metadata": {
  "kernelspec": {
   "display_name": "Python 2",
   "language": "python",
   "name": "python2"
  },
  "language_info": {
   "codemirror_mode": {
    "name": "ipython",
    "version": 2
   },
   "file_extension": ".py",
   "mimetype": "text/x-python",
   "name": "python",
   "nbconvert_exporter": "python",
   "pygments_lexer": "ipython2",
   "version": "2.7.11"
  }
 },
 "nbformat": 4,
 "nbformat_minor": 0
}
